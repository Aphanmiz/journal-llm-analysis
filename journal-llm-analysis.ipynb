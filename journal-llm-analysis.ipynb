{
 "cells": [
  {
   "cell_type": "markdown",
   "id": "e05073ac",
   "metadata": {
    "toc": true
   },
   "source": [
    "<h1>Table of Contents<span class=\"tocSkip\"></span></h1>\n",
    "<div class=\"toc\"><ul class=\"toc-item\"><li><span><a href=\"#Step-1:-Load-Journal-Data\" data-toc-modified-id=\"Step-1:-Load-Journal-Data-1\">Step 1: Load Journal Data</a></span></li><li><span><a href=\"#Step-2:-Generate-Embeddings\" data-toc-modified-id=\"Step-2:-Generate-Embeddings-2\">Step 2: Generate Embeddings</a></span></li><li><span><a href=\"#Step-3:-Reduce-Dimensions-with-PCA\" data-toc-modified-id=\"Step-3:-Reduce-Dimensions-with-PCA-3\">Step 3: Reduce Dimensions with PCA</a></span></li><li><span><a href=\"#Step-4:-Perform-K-Means-Clustering\" data-toc-modified-id=\"Step-4:-Perform-K-Means-Clustering-4\">Step 4: Perform K-Means Clustering</a></span></li><li><span><a href=\"#Step-5:-Visualize-Vector-Embeddings\" data-toc-modified-id=\"Step-5:-Visualize-Vector-Embeddings-5\">Step 5: Visualize Vector Embeddings</a></span></li><li><span><a href=\"#Step-6:-Filter-Entries-and-Create-Documents\" data-toc-modified-id=\"Step-6:-Filter-Entries-and-Create-Documents-6\">Step 6: Filter Entries and Create Documents</a></span></li><li><span><a href=\"#Step-7:-Create-Chroma-Vector-Store\" data-toc-modified-id=\"Step-7:-Create-Chroma-Vector-Store-7\">Step 7: Create Chroma Vector Store</a></span></li><li><span><a href=\"#Step-8:-Query-LLM\" data-toc-modified-id=\"Step-8:-Query-LLM-8\">Step 8: Query LLM</a></span></li></ul></div>"
   ]
  },
  {
   "cell_type": "markdown",
   "id": "2ab7b9e9",
   "metadata": {},
   "source": [
    "## Step 1: Load Journal Data"
   ]
  },
  {
   "cell_type": "code",
   "execution_count": 1,
   "id": "9ff9e1a7",
   "metadata": {},
   "outputs": [],
   "source": [
    "from langchain_community.vectorstores import Chroma\n",
    "from langchain_ollama.embeddings import OllamaEmbeddings\n",
    "from langchain.docstore.document import Document\n",
    "from langchain_ollama.llms import OllamaLLM\n",
    "import pandas as pd\n",
    "import numpy as np\n",
    "from sklearn.decomposition import PCA\n",
    "from sklearn.cluster import KMeans\n",
    "import plotly.express as px\n",
    "\n",
    "# Load your journal data\n",
    "journal_df = pd.read_csv(\"daily_track_records_2024.csv\")"
   ]
  },
  {
   "cell_type": "markdown",
   "id": "617953fc",
   "metadata": {},
   "source": [
    "## Step 2: Generate Embeddings"
   ]
  },
  {
   "cell_type": "code",
   "execution_count": null,
   "id": "ff4b1bf5",
   "metadata": {},
   "outputs": [],
   "source": [
    "# Combine meaningful columns into a single text field\n",
    "journal_df['text'] = journal_df.apply(\n",
    "    lambda row: f\"Time: {row['Time']}, Day: {row['Day']}, Type: {row['Type']}, Name: {row['Name']}\", \n",
    "    axis=1\n",
    ")\n",
    "\n",
    "# Generate embeddings using OllamaEmbeddings\n",
    "embeddings_model = OllamaEmbeddings(model=\"nomic-embed-text\")\n",
    "journal_df['embedding'] = journal_df['text'].apply(\n",
    "    lambda x: embeddings_model.embed_query(x)\n",
    ")\n",
    "\n",
    "# Save embeddings for later use\n",
    "journal_df.to_pickle(\"journal_with_ollama_embeddings.pkl\")\n",
    "print(\"Ollama embeddings created and saved successfully!\") "
   ]
  },
  {
   "cell_type": "markdown",
   "id": "575f9f17",
   "metadata": {},
   "source": [
    "## Step 3: Reduce Dimensions with PCA"
   ]
  },
  {
   "cell_type": "code",
   "execution_count": null,
   "id": "34c8ec65",
   "metadata": {},
   "outputs": [],
   "source": [
    "# Load embeddings\n",
    "journal_df = pd.read_pickle(\"journal_with_ollama_embeddings.pkl\")\n",
    "\n",
    "# Reduce dimensions using PCA\n",
    "pca = PCA(n_components=3)  # Reduce to 3 dimensions for visualization\n",
    "embeddings = np.array(journal_df['embedding'].tolist())\n",
    "reduced_embeddings = pca.fit_transform(embeddings)\n",
    "\n",
    "# Add PCA results to the DataFrame\n",
    "journal_df['pca_x'] = reduced_embeddings[:, 0]\n",
    "journal_df['pca_y'] = reduced_embeddings[:, 1]\n",
    "journal_df['pca_z'] = reduced_embeddings[:, 2]"
   ]
  },
  {
   "cell_type": "markdown",
   "id": "26ca0d15",
   "metadata": {},
   "source": [
    "## Step 4: Perform K-Means Clustering"
   ]
  },
  {
   "cell_type": "code",
   "execution_count": null,
   "id": "fb8755a7",
   "metadata": {},
   "outputs": [],
   "source": [
    "# Perform clustering using K-Means\n",
    "num_clusters = 10  # Adjust as needed\n",
    "kmeans = KMeans(n_clusters=num_clusters, random_state=42)\n",
    "journal_df['cluster'] = kmeans.fit_predict(journal_df[['pca_x', 'pca_y', 'pca_z']])"
   ]
  },
  {
   "cell_type": "markdown",
   "id": "9c7da0bc",
   "metadata": {},
   "source": [
    "## Step 5: Visualize Vector Embeddings"
   ]
  },
  {
   "cell_type": "code",
   "execution_count": null,
   "id": "5d6854a0",
   "metadata": {},
   "outputs": [],
   "source": [
    "# Create a hover_text column for visualization\n",
    "journal_df['hover_text'] = journal_df.apply(\n",
    "    lambda row: f\"{row['Name']} ({row['Type']})\" if pd.notna(row['Name']) else row['Type'],\n",
    "    axis=1\n",
    "\n",
    "# Create an interactive 3D scatter plot\n",
    "fig = px.scatter_3d(\n",
    "    journal_df,\n",
    "    x='pca_x',\n",
    "    y='pca_y',\n",
    "    z='pca_z',\n",
    "    color='cluster',\n",
    "    hover_name='hover_text',  # Use the hover_text column\n",
    "    title=\"Journal Entry Embeddings (3D PCA with Clustering)\",\n",
    "    labels={\n",
    "        'pca_x': 'PCA Dimension 1',\n",
    "        'pca_y': 'PCA Dimension 2',\n",
    "        'pca_z': 'PCA Dimension 3',\n",
    "        'cluster': 'Cluster'\n",
    "    }\n",
    ")\n",
    "\n",
    "# Customize layout\n",
    "fig.update_layout(\n",
    "    width=800,\n",
    "    height=800,\n",
    "    margin=dict(l=10, r=10, t=40, b=10),\n",
    "    scene=dict(\n",
    "        xaxis_title=\"PCA D1\",\n",
    "        yaxis_title=\"PCA D2\",\n",
    "        zaxis_title=\"PCA D3\"\n",
    "    )\n",
    ")\n",
    "\n",
    "# Adjust dot size and transparency\n",
    "fig.update_traces(marker=dict(size=3, opacity=0.8))\n",
    "fig.show()"
   ]
  },
  {
   "cell_type": "markdown",
   "id": "1d46e9b1",
   "metadata": {},
   "source": [
    "## Step 6: Filter Entries and Create Documents"
   ]
  },
  {
   "cell_type": "code",
   "execution_count": null,
   "id": "4299c14a",
   "metadata": {},
   "outputs": [],
   "source": [
    "types_to_exclude = [\n",
    "    \"Schedule - Get Up + Routine\",\n",
    "    \"Schedule - Sleep + Routine\",\n",
    "    \"Meal - Breakfast\",\n",
    "    \"Meal - Brunch\",\n",
    "    \"Meal - Lunch\",\n",
    "    \"Meal - Prep\"\n",
    "]\n",
    "\n",
    "# Filter journal entries based on excluded types\n",
    "filtered_journal_df = journal_df[~journal_df['Type'].isin(types_to_exclude)]\n",
    "\n",
    "# Create Document objects for Chroma\n",
    "documents = [\n",
    "    Document(page_content=row['text'], metadata={\"row_id\": idx})\n",
    "    for idx, row in filtered_journal_df.iterrows()\n",
    "]"
   ]
  },
  {
   "cell_type": "markdown",
   "id": "ebbba948",
   "metadata": {},
   "source": [
    "## Step 7: Create Chroma Vector Store"
   ]
  },
  {
   "cell_type": "code",
   "execution_count": null,
   "id": "16300508",
   "metadata": {},
   "outputs": [],
   "source": [
    "# Create Chroma Vector Store\n",
    "embedding_model = OllamaEmbeddings(model=\"nomic-embed-text\")\n",
    "vectorstore = Chroma.from_documents(documents, embedding=embedding_model)"
   ]
  },
  {
   "cell_type": "markdown",
   "id": "6c70ab6e",
   "metadata": {},
   "source": [
    "## Step 8: Query LLM"
   ]
  },
  {
   "cell_type": "code",
   "execution_count": null,
   "id": "a7491148",
   "metadata": {},
   "outputs": [],
   "source": [
    "# Example query\n",
    "query = \"What new skills or habits did I develop this year?\"\n",
    "response = chat_with_journal(query, vectorstore, llm)\n",
    "\n",
    "print(\"LLM Response:\", response)"
   ]
  }
 ],
 "metadata": {
  "kernelspec": {
   "display_name": "Python journal-analysis",
   "language": "python",
   "name": "myenv"
  },
  "language_info": {
   "codemirror_mode": {
    "name": "ipython",
    "version": 3
   },
   "file_extension": ".py",
   "mimetype": "text/x-python",
   "name": "python",
   "nbconvert_exporter": "python",
   "pygments_lexer": "ipython3",
   "version": "3.9.7"
  },
  "toc": {
   "base_numbering": 1,
   "nav_menu": {},
   "number_sections": false,
   "sideBar": true,
   "skip_h1_title": false,
   "title_cell": "Table of Contents",
   "title_sidebar": "Contents",
   "toc_cell": true,
   "toc_position": {},
   "toc_section_display": true,
   "toc_window_display": false
  }
 },
 "nbformat": 4,
 "nbformat_minor": 5
}
